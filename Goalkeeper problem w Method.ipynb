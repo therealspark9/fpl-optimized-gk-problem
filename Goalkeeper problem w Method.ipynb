{
 "cells": [
  {
   "cell_type": "code",
   "execution_count": 1,
   "id": "ad8ff33a-75fe-460b-86a8-8cf70e669cec",
   "metadata": {},
   "outputs": [],
   "source": [
    "import pandas as pd\n",
    "import sasoptpy as so\n",
    "import os\n",
    "import time"
   ]
  },
  {
   "cell_type": "code",
   "execution_count": 2,
   "id": "c773e413-43fa-400d-9d4e-201d282a5d3f",
   "metadata": {},
   "outputs": [],
   "source": [
    "t0=time.time()"
   ]
  },
  {
   "cell_type": "code",
   "execution_count": 3,
   "id": "c9654a14-25b2-4448-9859-8f71471938fa",
   "metadata": {},
   "outputs": [],
   "source": [
    "df = pd.read_csv('../data/input.csv')\n",
    "df.set_index('index', inplace = True)"
   ]
  },
  {
   "cell_type": "code",
   "execution_count": 4,
   "id": "fdf8017b-c4c4-4290-9d97-37da63d8ab16",
   "metadata": {},
   "outputs": [],
   "source": [
    "def solve_goalkeeper_problem(df, budget):\n",
    "    model = so.Model(name='gk_model')\n",
    "    players = df.index.tolist()\n",
    "    #variables\n",
    "    lineup = model.add_variables(players, name='lineup', vartype=so.binary)\n",
    "    bench = model.add_variables(players, name='bench', vartype=so.binary)\n",
    "    #objective\n",
    "    total_xp = so.expr_sum(lineup[p] * df.loc[p, 'GW20'] for p in players) + 0.1 * so.expr_sum(bench[p] * df.loc[p, 'GW20'] for p in players)\n",
    "    model.set_objective(-total_xp, name='total_xp_obj', sense='N')\n",
    "    #constraints\n",
    "    model.add_constraints((lineup[p] + bench[p] <=1 for p in players), name = 'lineup_or_bench')\n",
    "    model.add_constraint(so.expr_sum(lineup[p] for p in players) == 1, name='single_lineup')\n",
    "    model.add_constraint(so.expr_sum(bench[p] for p in players) == 1, name='single_bench')\n",
    "    model.add_constraint(so.expr_sum((lineup[p] + bench[p]) * df.loc[p, 'Price'] for p in players)<= budget, name='budget_con')\n",
    "    #solve step\n",
    "    model.export_mps(filename='gk.mps')\n",
    "    command = 'cbc gk.mps solve solu solution.txt'\n",
    "    #!{command} this is with default jupyter notebook logs\n",
    "    #using os library to remove all background logs\n",
    "    os.system(command)\n",
    "    with open('solution.txt', 'r') as f:\n",
    "        for v in model.get_variables():\n",
    "            v.set_value(0)\n",
    "        for line in f:\n",
    "            if 'objective value' in line:\n",
    "                continue\n",
    "            words = line.split()\n",
    "            var = model.get_variable(words[1])\n",
    "            var.set_value(float(words[2]))\n",
    "    print(\"LINEUP\")\n",
    "    for p in players:\n",
    "        if lineup[p].get_value() > 0.5:\n",
    "            print(p, df.loc[p])\n",
    "    print(\"BENCH\")\n",
    "    for p in players:\n",
    "        if bench[p].get_value() > 0.5:\n",
    "            print(p, df.loc[p])"
   ]
  },
  {
   "cell_type": "code",
   "execution_count": 5,
   "id": "a93a25b8-a1c9-4126-8e97-a55ccf4ec35e",
   "metadata": {},
   "outputs": [
    {
     "name": "stdout",
     "output_type": "stream",
     "text": [
      "NOTE: Initialized model gk_model.\n",
      "LINEUP\n",
      "2 Player Name    Martinez\n",
      "Price               5.2\n",
      "xMins                93\n",
      "GW20                4.1\n",
      "Total               4.1\n",
      "PPM                 0.8\n",
      "Elite%             0.04\n",
      "Name: 2, dtype: object\n",
      "BENCH\n",
      "12 Player Name    Turner\n",
      "Price             3.9\n",
      "xMins              90\n",
      "GW20              3.3\n",
      "Total             3.3\n",
      "PPM              0.85\n",
      "Elite%          0.178\n",
      "Name: 12, dtype: object\n"
     ]
    }
   ],
   "source": [
    "#input budget here and solve for your team\n",
    "solve_goalkeeper_problem(df, 9.2)"
   ]
  },
  {
   "cell_type": "code",
   "execution_count": 6,
   "id": "e237f6f4-b635-41f2-975b-0862f4dd2360",
   "metadata": {},
   "outputs": [
    {
     "name": "stdout",
     "output_type": "stream",
     "text": [
      "1.370307207107544 seconds\n"
     ]
    }
   ],
   "source": [
    "t1 = time.time()\n",
    "print(t1-t0, 'seconds')"
   ]
  },
  {
   "cell_type": "code",
   "execution_count": null,
   "id": "7f609f26-e734-4140-b41c-693c550d78e8",
   "metadata": {},
   "outputs": [],
   "source": []
  }
 ],
 "metadata": {
  "kernelspec": {
   "display_name": "Python 3 (ipykernel)",
   "language": "python",
   "name": "python3"
  },
  "language_info": {
   "codemirror_mode": {
    "name": "ipython",
    "version": 3
   },
   "file_extension": ".py",
   "mimetype": "text/x-python",
   "name": "python",
   "nbconvert_exporter": "python",
   "pygments_lexer": "ipython3",
   "version": "3.10.8"
  }
 },
 "nbformat": 4,
 "nbformat_minor": 5
}
